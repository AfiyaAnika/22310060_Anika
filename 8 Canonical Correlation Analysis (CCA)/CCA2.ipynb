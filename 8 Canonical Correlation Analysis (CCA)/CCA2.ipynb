{
 "cells": [
  {
   "cell_type": "code",
   "execution_count": 17,
   "id": "52766e64-ab34-40fb-8227-3bfc4a503eb1",
   "metadata": {},
   "outputs": [],
   "source": [
    "import pandas as pd\n",
    "import numpy as np\n",
    "import matplotlib.pyplot as plt\n",
    "from sklearn.preprocessing import StandardScaler\n",
    "from sklearn.cross_decomposition import CCA\n",
    "from scipy.stats import chi2\n",
    "import seaborn as sns\n",
    "import warnings\n",
    "warnings.filterwarnings('ignore')"
   ]
  },
  {
   "cell_type": "code",
   "execution_count": 2,
   "id": "06ee06bd-499d-46e4-af0e-2fd501fc02af",
   "metadata": {},
   "outputs": [
    {
     "data": {
      "text/html": [
       "<div>\n",
       "<style scoped>\n",
       "    .dataframe tbody tr th:only-of-type {\n",
       "        vertical-align: middle;\n",
       "    }\n",
       "\n",
       "    .dataframe tbody tr th {\n",
       "        vertical-align: top;\n",
       "    }\n",
       "\n",
       "    .dataframe thead th {\n",
       "        text-align: right;\n",
       "    }\n",
       "</style>\n",
       "<table border=\"1\" class=\"dataframe\">\n",
       "  <thead>\n",
       "    <tr style=\"text-align: right;\">\n",
       "      <th></th>\n",
       "      <th>id</th>\n",
       "      <th>locus_of_control</th>\n",
       "      <th>self_concept</th>\n",
       "      <th>motivation</th>\n",
       "      <th>read</th>\n",
       "      <th>write</th>\n",
       "      <th>math</th>\n",
       "      <th>science</th>\n",
       "      <th>female</th>\n",
       "    </tr>\n",
       "  </thead>\n",
       "  <tbody>\n",
       "    <tr>\n",
       "      <th>0</th>\n",
       "      <td>303.0</td>\n",
       "      <td>-0.84</td>\n",
       "      <td>-0.24</td>\n",
       "      <td>1.00</td>\n",
       "      <td>54.799999</td>\n",
       "      <td>64.500000</td>\n",
       "      <td>44.500000</td>\n",
       "      <td>52.599998</td>\n",
       "      <td>1.0</td>\n",
       "    </tr>\n",
       "    <tr>\n",
       "      <th>1</th>\n",
       "      <td>404.0</td>\n",
       "      <td>-0.38</td>\n",
       "      <td>-0.47</td>\n",
       "      <td>0.67</td>\n",
       "      <td>62.700001</td>\n",
       "      <td>43.700001</td>\n",
       "      <td>44.700001</td>\n",
       "      <td>52.599998</td>\n",
       "      <td>1.0</td>\n",
       "    </tr>\n",
       "    <tr>\n",
       "      <th>2</th>\n",
       "      <td>225.0</td>\n",
       "      <td>0.89</td>\n",
       "      <td>0.59</td>\n",
       "      <td>0.67</td>\n",
       "      <td>60.599998</td>\n",
       "      <td>56.700001</td>\n",
       "      <td>70.500000</td>\n",
       "      <td>58.000000</td>\n",
       "      <td>0.0</td>\n",
       "    </tr>\n",
       "    <tr>\n",
       "      <th>3</th>\n",
       "      <td>553.0</td>\n",
       "      <td>0.71</td>\n",
       "      <td>0.28</td>\n",
       "      <td>0.67</td>\n",
       "      <td>62.700001</td>\n",
       "      <td>56.700001</td>\n",
       "      <td>54.700001</td>\n",
       "      <td>58.000000</td>\n",
       "      <td>0.0</td>\n",
       "    </tr>\n",
       "    <tr>\n",
       "      <th>4</th>\n",
       "      <td>433.0</td>\n",
       "      <td>-0.64</td>\n",
       "      <td>0.03</td>\n",
       "      <td>1.00</td>\n",
       "      <td>41.599998</td>\n",
       "      <td>46.299999</td>\n",
       "      <td>38.400002</td>\n",
       "      <td>36.299999</td>\n",
       "      <td>1.0</td>\n",
       "    </tr>\n",
       "    <tr>\n",
       "      <th>...</th>\n",
       "      <td>...</td>\n",
       "      <td>...</td>\n",
       "      <td>...</td>\n",
       "      <td>...</td>\n",
       "      <td>...</td>\n",
       "      <td>...</td>\n",
       "      <td>...</td>\n",
       "      <td>...</td>\n",
       "      <td>...</td>\n",
       "    </tr>\n",
       "    <tr>\n",
       "      <th>595</th>\n",
       "      <td>464.0</td>\n",
       "      <td>0.94</td>\n",
       "      <td>-0.30</td>\n",
       "      <td>1.00</td>\n",
       "      <td>60.099998</td>\n",
       "      <td>67.099998</td>\n",
       "      <td>52.400002</td>\n",
       "      <td>55.299999</td>\n",
       "      <td>1.0</td>\n",
       "    </tr>\n",
       "    <tr>\n",
       "      <th>596</th>\n",
       "      <td>291.0</td>\n",
       "      <td>0.23</td>\n",
       "      <td>0.03</td>\n",
       "      <td>1.00</td>\n",
       "      <td>65.400002</td>\n",
       "      <td>56.700001</td>\n",
       "      <td>65.400002</td>\n",
       "      <td>58.000000</td>\n",
       "      <td>1.0</td>\n",
       "    </tr>\n",
       "    <tr>\n",
       "      <th>597</th>\n",
       "      <td>348.0</td>\n",
       "      <td>0.46</td>\n",
       "      <td>0.03</td>\n",
       "      <td>1.00</td>\n",
       "      <td>65.400002</td>\n",
       "      <td>51.500000</td>\n",
       "      <td>61.400002</td>\n",
       "      <td>60.700001</td>\n",
       "      <td>1.0</td>\n",
       "    </tr>\n",
       "    <tr>\n",
       "      <th>598</th>\n",
       "      <td>193.0</td>\n",
       "      <td>0.51</td>\n",
       "      <td>0.03</td>\n",
       "      <td>1.00</td>\n",
       "      <td>54.799999</td>\n",
       "      <td>54.099998</td>\n",
       "      <td>66.400002</td>\n",
       "      <td>41.700001</td>\n",
       "      <td>1.0</td>\n",
       "    </tr>\n",
       "    <tr>\n",
       "      <th>599</th>\n",
       "      <td>380.0</td>\n",
       "      <td>0.25</td>\n",
       "      <td>0.03</td>\n",
       "      <td>0.67</td>\n",
       "      <td>49.500000</td>\n",
       "      <td>51.500000</td>\n",
       "      <td>55.500000</td>\n",
       "      <td>44.400002</td>\n",
       "      <td>1.0</td>\n",
       "    </tr>\n",
       "  </tbody>\n",
       "</table>\n",
       "<p>600 rows × 9 columns</p>\n",
       "</div>"
      ],
      "text/plain": [
       "        id  locus_of_control  self_concept  motivation       read      write  \\\n",
       "0    303.0             -0.84         -0.24        1.00  54.799999  64.500000   \n",
       "1    404.0             -0.38         -0.47        0.67  62.700001  43.700001   \n",
       "2    225.0              0.89          0.59        0.67  60.599998  56.700001   \n",
       "3    553.0              0.71          0.28        0.67  62.700001  56.700001   \n",
       "4    433.0             -0.64          0.03        1.00  41.599998  46.299999   \n",
       "..     ...               ...           ...         ...        ...        ...   \n",
       "595  464.0              0.94         -0.30        1.00  60.099998  67.099998   \n",
       "596  291.0              0.23          0.03        1.00  65.400002  56.700001   \n",
       "597  348.0              0.46          0.03        1.00  65.400002  51.500000   \n",
       "598  193.0              0.51          0.03        1.00  54.799999  54.099998   \n",
       "599  380.0              0.25          0.03        0.67  49.500000  51.500000   \n",
       "\n",
       "          math    science  female  \n",
       "0    44.500000  52.599998     1.0  \n",
       "1    44.700001  52.599998     1.0  \n",
       "2    70.500000  58.000000     0.0  \n",
       "3    54.700001  58.000000     0.0  \n",
       "4    38.400002  36.299999     1.0  \n",
       "..         ...        ...     ...  \n",
       "595  52.400002  55.299999     1.0  \n",
       "596  65.400002  58.000000     1.0  \n",
       "597  61.400002  60.700001     1.0  \n",
       "598  66.400002  41.700001     1.0  \n",
       "599  55.500000  44.400002     1.0  \n",
       "\n",
       "[600 rows x 9 columns]"
      ]
     },
     "execution_count": 2,
     "metadata": {},
     "output_type": "execute_result"
    }
   ],
   "source": [
    "mm = pd.read_stata('mmreg.dta')\n",
    "mm"
   ]
  },
  {
   "cell_type": "code",
   "execution_count": 3,
   "id": "2fc704be-64e7-443f-8539-8714cec159dd",
   "metadata": {},
   "outputs": [
    {
     "data": {
      "text/plain": [
       "id                  0\n",
       "locus_of_control    0\n",
       "self_concept        0\n",
       "motivation          0\n",
       "read                0\n",
       "write               0\n",
       "math                0\n",
       "science             0\n",
       "female              0\n",
       "dtype: int64"
      ]
     },
     "execution_count": 3,
     "metadata": {},
     "output_type": "execute_result"
    }
   ],
   "source": [
    "mm.isna().sum()"
   ]
  },
  {
   "cell_type": "code",
   "execution_count": 4,
   "id": "9a0ba871-285b-4691-b704-d3ae6adbad9f",
   "metadata": {},
   "outputs": [
    {
     "data": {
      "text/html": [
       "<div>\n",
       "<style scoped>\n",
       "    .dataframe tbody tr th:only-of-type {\n",
       "        vertical-align: middle;\n",
       "    }\n",
       "\n",
       "    .dataframe tbody tr th {\n",
       "        vertical-align: top;\n",
       "    }\n",
       "\n",
       "    .dataframe thead th {\n",
       "        text-align: right;\n",
       "    }\n",
       "</style>\n",
       "<table border=\"1\" class=\"dataframe\">\n",
       "  <thead>\n",
       "    <tr style=\"text-align: right;\">\n",
       "      <th></th>\n",
       "      <th>count</th>\n",
       "      <th>mean</th>\n",
       "      <th>std</th>\n",
       "      <th>min</th>\n",
       "      <th>25%</th>\n",
       "      <th>50%</th>\n",
       "      <th>75%</th>\n",
       "      <th>max</th>\n",
       "    </tr>\n",
       "  </thead>\n",
       "  <tbody>\n",
       "    <tr>\n",
       "      <th>id</th>\n",
       "      <td>600.0</td>\n",
       "      <td>300.500000</td>\n",
       "      <td>173.348816</td>\n",
       "      <td>1.000000</td>\n",
       "      <td>150.750000</td>\n",
       "      <td>300.500000</td>\n",
       "      <td>450.250000</td>\n",
       "      <td>600.000000</td>\n",
       "    </tr>\n",
       "    <tr>\n",
       "      <th>locus_of_control</th>\n",
       "      <td>600.0</td>\n",
       "      <td>0.096533</td>\n",
       "      <td>0.670280</td>\n",
       "      <td>-2.230000</td>\n",
       "      <td>-0.372500</td>\n",
       "      <td>0.210000</td>\n",
       "      <td>0.510000</td>\n",
       "      <td>1.360000</td>\n",
       "    </tr>\n",
       "    <tr>\n",
       "      <th>self_concept</th>\n",
       "      <td>600.0</td>\n",
       "      <td>0.004917</td>\n",
       "      <td>0.705512</td>\n",
       "      <td>-2.620000</td>\n",
       "      <td>-0.300000</td>\n",
       "      <td>0.030000</td>\n",
       "      <td>0.440000</td>\n",
       "      <td>1.190000</td>\n",
       "    </tr>\n",
       "    <tr>\n",
       "      <th>motivation</th>\n",
       "      <td>600.0</td>\n",
       "      <td>0.660833</td>\n",
       "      <td>0.342729</td>\n",
       "      <td>0.000000</td>\n",
       "      <td>0.330000</td>\n",
       "      <td>0.670000</td>\n",
       "      <td>1.000000</td>\n",
       "      <td>1.000000</td>\n",
       "    </tr>\n",
       "    <tr>\n",
       "      <th>read</th>\n",
       "      <td>600.0</td>\n",
       "      <td>51.901833</td>\n",
       "      <td>10.102986</td>\n",
       "      <td>28.299999</td>\n",
       "      <td>44.200001</td>\n",
       "      <td>52.099998</td>\n",
       "      <td>60.099998</td>\n",
       "      <td>76.000000</td>\n",
       "    </tr>\n",
       "    <tr>\n",
       "      <th>write</th>\n",
       "      <td>600.0</td>\n",
       "      <td>52.384834</td>\n",
       "      <td>9.726455</td>\n",
       "      <td>25.500000</td>\n",
       "      <td>44.299999</td>\n",
       "      <td>54.099998</td>\n",
       "      <td>59.900002</td>\n",
       "      <td>67.099998</td>\n",
       "    </tr>\n",
       "    <tr>\n",
       "      <th>math</th>\n",
       "      <td>600.0</td>\n",
       "      <td>51.848999</td>\n",
       "      <td>9.414738</td>\n",
       "      <td>31.799999</td>\n",
       "      <td>44.500000</td>\n",
       "      <td>51.299999</td>\n",
       "      <td>58.374999</td>\n",
       "      <td>75.500000</td>\n",
       "    </tr>\n",
       "    <tr>\n",
       "      <th>science</th>\n",
       "      <td>600.0</td>\n",
       "      <td>51.763332</td>\n",
       "      <td>9.706173</td>\n",
       "      <td>26.000000</td>\n",
       "      <td>44.400002</td>\n",
       "      <td>52.599998</td>\n",
       "      <td>58.650000</td>\n",
       "      <td>74.199997</td>\n",
       "    </tr>\n",
       "    <tr>\n",
       "      <th>female</th>\n",
       "      <td>600.0</td>\n",
       "      <td>0.545000</td>\n",
       "      <td>0.498387</td>\n",
       "      <td>0.000000</td>\n",
       "      <td>0.000000</td>\n",
       "      <td>1.000000</td>\n",
       "      <td>1.000000</td>\n",
       "      <td>1.000000</td>\n",
       "    </tr>\n",
       "  </tbody>\n",
       "</table>\n",
       "</div>"
      ],
      "text/plain": [
       "                  count        mean         std        min         25%  \\\n",
       "id                600.0  300.500000  173.348816   1.000000  150.750000   \n",
       "locus_of_control  600.0    0.096533    0.670280  -2.230000   -0.372500   \n",
       "self_concept      600.0    0.004917    0.705512  -2.620000   -0.300000   \n",
       "motivation        600.0    0.660833    0.342729   0.000000    0.330000   \n",
       "read              600.0   51.901833   10.102986  28.299999   44.200001   \n",
       "write             600.0   52.384834    9.726455  25.500000   44.299999   \n",
       "math              600.0   51.848999    9.414738  31.799999   44.500000   \n",
       "science           600.0   51.763332    9.706173  26.000000   44.400002   \n",
       "female            600.0    0.545000    0.498387   0.000000    0.000000   \n",
       "\n",
       "                         50%         75%         max  \n",
       "id                300.500000  450.250000  600.000000  \n",
       "locus_of_control    0.210000    0.510000    1.360000  \n",
       "self_concept        0.030000    0.440000    1.190000  \n",
       "motivation          0.670000    1.000000    1.000000  \n",
       "read               52.099998   60.099998   76.000000  \n",
       "write              54.099998   59.900002   67.099998  \n",
       "math               51.299999   58.374999   75.500000  \n",
       "science            52.599998   58.650000   74.199997  \n",
       "female              1.000000    1.000000    1.000000  "
      ]
     },
     "execution_count": 4,
     "metadata": {},
     "output_type": "execute_result"
    }
   ],
   "source": [
    "mm.describe().T"
   ]
  },
  {
   "cell_type": "code",
   "execution_count": 5,
   "id": "0ae0c0be-0267-4e99-ab68-de041e1e1316",
   "metadata": {},
   "outputs": [
    {
     "data": {
      "image/png": "[encoded data removed]",
      "text/plain": [
       "<Figure size 640x480 with 1 Axes>"
      ]
     },
     "metadata": {},
     "output_type": "display_data"
    }
   ],
   "source": [
    "sns.boxplot(data=mm.drop('id', axis=1))\n",
    "plt.show()"
   ]
  },
  {
   "cell_type": "code",
   "execution_count": 6,
   "id": "60e43bcb-cf66-44bb-9aa4-31da9dbf03f9",
   "metadata": {},
   "outputs": [
    {
     "name": "stdout",
     "output_type": "stream",
     "text": [
      "Outliers in 'locus_of_control':\n",
      "Outliers in 'self_concept':\n",
      "No outliers found in 'motivation'\n",
      "No outliers found in 'read'\n",
      "No outliers found in 'write'\n",
      "No outliers found in 'math'\n",
      "No outliers found in 'science'\n"
     ]
    }
   ],
   "source": [
    "# Function to detect outliers using IQR\n",
    "def detect_outliers_iqr(mm, column):\n",
    "    q1 = mm[column].quantile(0.25)\n",
    "    q3 = mm[column].quantile(0.75)\n",
    "    iqr = q3 - q1\n",
    "    lower_bound = q1 - 1.5 * iqr\n",
    "    upper_bound = q3 + 1.5 * iqr\n",
    "    outliers = mm[(mm[column] < lower_bound) | (mm[column] > upper_bound)]\n",
    "    return outliers\n",
    "# Detect outliers in numerical columns\n",
    "numerical_cols = ['locus_of_control', 'self_concept', 'motivation', 'read', 'write', 'math', 'science']\n",
    "for col in numerical_cols:\n",
    "    outliers = detect_outliers_iqr(mm, col)\n",
    "    if not outliers.empty:\n",
    "        print(f\"Outliers in '{col}':\")\n",
    "\n",
    "    else:\n",
    "        print(f\"No outliers found in '{col}'\")"
   ]
  },
  {
   "cell_type": "code",
   "execution_count": 7,
   "id": "58ebe7f2-f918-4b10-b777-e8d8213dc636",
   "metadata": {},
   "outputs": [
    {
     "data": {
      "text/plain": [
       "<Axes: ylabel='locus_of_control'>"
      ]
     },
     "execution_count": 7,
     "metadata": {},
     "output_type": "execute_result"
    },
    {
     "data": {
      "image/png": "[encoded data removed]",
      "text/plain": [
       "<Figure size 640x480 with 1 Axes>"
      ]
     },
     "metadata": {},
     "output_type": "display_data"
    }
   ],
   "source": [
    "sns.boxplot(mm['locus_of_control'])"
   ]
  },
  {
   "cell_type": "code",
   "execution_count": 8,
   "id": "e57c5bb8-4713-45e3-b464-3e12ba126651",
   "metadata": {},
   "outputs": [
    {
     "data": {
      "text/plain": [
       "<Axes: ylabel='self_concept'>"
      ]
     },
     "execution_count": 8,
     "metadata": {},
     "output_type": "execute_result"
    },
    {
     "data": {
      "image/png": "[encoded data removed]",
      "text/plain": [
       "<Figure size 640x480 with 1 Axes>"
      ]
     },
     "metadata": {},
     "output_type": "display_data"
    }
   ],
   "source": [
    "sns.boxplot(mm['self_concept'])"
   ]
  },
  {
   "cell_type": "code",
   "execution_count": 9,
   "id": "c53d7de9-9fee-427f-a0f3-ec840b229afd",
   "metadata": {},
   "outputs": [],
   "source": [
    "df = mm.copy()"
   ]
  },
  {
   "cell_type": "code",
   "execution_count": 10,
   "id": "f8f97052-a155-4b70-90ca-30a1391b52d4",
   "metadata": {},
   "outputs": [],
   "source": [
    "# Step 1: Calculate Q1 (25th percentile) and Q3 (75th percentile)\n",
    "Q1 = df['locus_of_control'].quantile(0.25)\n",
    "Q3 = df['locus_of_control'].quantile(0.75)\n",
    "\n",
    "# Step 2: Calculate IQR\n",
    "IQR = Q3 - Q1\n",
    "\n",
    "# Step 3: Define lower and upper bounds\n",
    "lower_bound = Q1 - 1.5 * IQR\n",
    "upper_bound = Q3 + 1.5 * IQR"
   ]
  },
  {
   "cell_type": "code",
   "execution_count": 11,
   "id": "fdf8befd-8334-4526-b7ff-076c641c4598",
   "metadata": {},
   "outputs": [],
   "source": [
    "#  Remove the outliers and make a new dataframe\n",
    "df_no_outliers = df[(df['locus_of_control'] >= lower_bound) & (df['locus_of_control'] <= upper_bound)]"
   ]
  },
  {
   "cell_type": "code",
   "execution_count": 12,
   "id": "08ba9ffd-8dbe-4a90-ab36-d59fa184ae47",
   "metadata": {},
   "outputs": [],
   "source": [
    "df_no_outliers = df[(df['self_concept'] >= lower_bound) & (df['self_concept'] <= upper_bound)]"
   ]
  },
  {
   "cell_type": "code",
   "execution_count": 13,
   "id": "7ea7f8e2-6002-4e0d-9bd8-ed12f178500e",
   "metadata": {},
   "outputs": [],
   "source": [
    "new_df = df_no_outliers.copy()"
   ]
  },
  {
   "cell_type": "code",
   "execution_count": 14,
   "id": "3a9e0197-a228-4d70-ba1c-b47d3a858d46",
   "metadata": {},
   "outputs": [
    {
     "data": {
      "text/html": [
       "<div>\n",
       "<style scoped>\n",
       "    .dataframe tbody tr th:only-of-type {\n",
       "        vertical-align: middle;\n",
       "    }\n",
       "\n",
       "    .dataframe tbody tr th {\n",
       "        vertical-align: top;\n",
       "    }\n",
       "\n",
       "    .dataframe thead th {\n",
       "        text-align: right;\n",
       "    }\n",
       "</style>\n",
       "<table border=\"1\" class=\"dataframe\">\n",
       "  <thead>\n",
       "    <tr style=\"text-align: right;\">\n",
       "      <th></th>\n",
       "      <th>id</th>\n",
       "      <th>locus_of_control</th>\n",
       "      <th>self_concept</th>\n",
       "      <th>motivation</th>\n",
       "      <th>read</th>\n",
       "      <th>write</th>\n",
       "      <th>math</th>\n",
       "      <th>science</th>\n",
       "      <th>female</th>\n",
       "    </tr>\n",
       "  </thead>\n",
       "  <tbody>\n",
       "    <tr>\n",
       "      <th>0</th>\n",
       "      <td>303.0</td>\n",
       "      <td>-0.84</td>\n",
       "      <td>-0.24</td>\n",
       "      <td>1.00</td>\n",
       "      <td>54.799999</td>\n",
       "      <td>64.500000</td>\n",
       "      <td>44.500000</td>\n",
       "      <td>52.599998</td>\n",
       "      <td>1.0</td>\n",
       "    </tr>\n",
       "    <tr>\n",
       "      <th>1</th>\n",
       "      <td>404.0</td>\n",
       "      <td>-0.38</td>\n",
       "      <td>-0.47</td>\n",
       "      <td>0.67</td>\n",
       "      <td>62.700001</td>\n",
       "      <td>43.700001</td>\n",
       "      <td>44.700001</td>\n",
       "      <td>52.599998</td>\n",
       "      <td>1.0</td>\n",
       "    </tr>\n",
       "    <tr>\n",
       "      <th>2</th>\n",
       "      <td>225.0</td>\n",
       "      <td>0.89</td>\n",
       "      <td>0.59</td>\n",
       "      <td>0.67</td>\n",
       "      <td>60.599998</td>\n",
       "      <td>56.700001</td>\n",
       "      <td>70.500000</td>\n",
       "      <td>58.000000</td>\n",
       "      <td>0.0</td>\n",
       "    </tr>\n",
       "    <tr>\n",
       "      <th>3</th>\n",
       "      <td>553.0</td>\n",
       "      <td>0.71</td>\n",
       "      <td>0.28</td>\n",
       "      <td>0.67</td>\n",
       "      <td>62.700001</td>\n",
       "      <td>56.700001</td>\n",
       "      <td>54.700001</td>\n",
       "      <td>58.000000</td>\n",
       "      <td>0.0</td>\n",
       "    </tr>\n",
       "    <tr>\n",
       "      <th>4</th>\n",
       "      <td>433.0</td>\n",
       "      <td>-0.64</td>\n",
       "      <td>0.03</td>\n",
       "      <td>1.00</td>\n",
       "      <td>41.599998</td>\n",
       "      <td>46.299999</td>\n",
       "      <td>38.400002</td>\n",
       "      <td>36.299999</td>\n",
       "      <td>1.0</td>\n",
       "    </tr>\n",
       "    <tr>\n",
       "      <th>...</th>\n",
       "      <td>...</td>\n",
       "      <td>...</td>\n",
       "      <td>...</td>\n",
       "      <td>...</td>\n",
       "      <td>...</td>\n",
       "      <td>...</td>\n",
       "      <td>...</td>\n",
       "      <td>...</td>\n",
       "      <td>...</td>\n",
       "    </tr>\n",
       "    <tr>\n",
       "      <th>595</th>\n",
       "      <td>464.0</td>\n",
       "      <td>0.94</td>\n",
       "      <td>-0.30</td>\n",
       "      <td>1.00</td>\n",
       "      <td>60.099998</td>\n",
       "      <td>67.099998</td>\n",
       "      <td>52.400002</td>\n",
       "      <td>55.299999</td>\n",
       "      <td>1.0</td>\n",
       "    </tr>\n",
       "    <tr>\n",
       "      <th>596</th>\n",
       "      <td>291.0</td>\n",
       "      <td>0.23</td>\n",
       "      <td>0.03</td>\n",
       "      <td>1.00</td>\n",
       "      <td>65.400002</td>\n",
       "      <td>56.700001</td>\n",
       "      <td>65.400002</td>\n",
       "      <td>58.000000</td>\n",
       "      <td>1.0</td>\n",
       "    </tr>\n",
       "    <tr>\n",
       "      <th>597</th>\n",
       "      <td>348.0</td>\n",
       "      <td>0.46</td>\n",
       "      <td>0.03</td>\n",
       "      <td>1.00</td>\n",
       "      <td>65.400002</td>\n",
       "      <td>51.500000</td>\n",
       "      <td>61.400002</td>\n",
       "      <td>60.700001</td>\n",
       "      <td>1.0</td>\n",
       "    </tr>\n",
       "    <tr>\n",
       "      <th>598</th>\n",
       "      <td>193.0</td>\n",
       "      <td>0.51</td>\n",
       "      <td>0.03</td>\n",
       "      <td>1.00</td>\n",
       "      <td>54.799999</td>\n",
       "      <td>54.099998</td>\n",
       "      <td>66.400002</td>\n",
       "      <td>41.700001</td>\n",
       "      <td>1.0</td>\n",
       "    </tr>\n",
       "    <tr>\n",
       "      <th>599</th>\n",
       "      <td>380.0</td>\n",
       "      <td>0.25</td>\n",
       "      <td>0.03</td>\n",
       "      <td>0.67</td>\n",
       "      <td>49.500000</td>\n",
       "      <td>51.500000</td>\n",
       "      <td>55.500000</td>\n",
       "      <td>44.400002</td>\n",
       "      <td>1.0</td>\n",
       "    </tr>\n",
       "  </tbody>\n",
       "</table>\n",
       "<p>586 rows × 9 columns</p>\n",
       "</div>"
      ],
      "text/plain": [
       "        id  locus_of_control  self_concept  motivation       read      write  \\\n",
       "0    303.0             -0.84         -0.24        1.00  54.799999  64.500000   \n",
       "1    404.0             -0.38         -0.47        0.67  62.700001  43.700001   \n",
       "2    225.0              0.89          0.59        0.67  60.599998  56.700001   \n",
       "3    553.0              0.71          0.28        0.67  62.700001  56.700001   \n",
       "4    433.0             -0.64          0.03        1.00  41.599998  46.299999   \n",
       "..     ...               ...           ...         ...        ...        ...   \n",
       "595  464.0              0.94         -0.30        1.00  60.099998  67.099998   \n",
       "596  291.0              0.23          0.03        1.00  65.400002  56.700001   \n",
       "597  348.0              0.46          0.03        1.00  65.400002  51.500000   \n",
       "598  193.0              0.51          0.03        1.00  54.799999  54.099998   \n",
       "599  380.0              0.25          0.03        0.67  49.500000  51.500000   \n",
       "\n",
       "          math    science  female  \n",
       "0    44.500000  52.599998     1.0  \n",
       "1    44.700001  52.599998     1.0  \n",
       "2    70.500000  58.000000     0.0  \n",
       "3    54.700001  58.000000     0.0  \n",
       "4    38.400002  36.299999     1.0  \n",
       "..         ...        ...     ...  \n",
       "595  52.400002  55.299999     1.0  \n",
       "596  65.400002  58.000000     1.0  \n",
       "597  61.400002  60.700001     1.0  \n",
       "598  66.400002  41.700001     1.0  \n",
       "599  55.500000  44.400002     1.0  \n",
       "\n",
       "[586 rows x 9 columns]"
      ]
     },
     "execution_count": 14,
     "metadata": {},
     "output_type": "execute_result"
    }
   ],
   "source": [
    "new_df"
   ]
  },
  {
   "cell_type": "code",
   "execution_count": 15,
   "id": "b42dae2f-4bcf-48e7-8cc4-69f7a83f0dae",
   "metadata": {},
   "outputs": [],
   "source": [
    "# Psychological variables\n",
    "X = new_df[['locus_of_control', 'self_concept', 'motivation']]\n",
    "\n",
    "# Academic variables\n",
    "Y = new_df[['read', 'write', 'math', 'science']]"
   ]
  },
  {
   "cell_type": "code",
   "execution_count": 18,
   "id": "236cb910-7472-4222-b34d-9a04049301e2",
   "metadata": {},
   "outputs": [],
   "source": [
    "# Standardize\n",
    "X_scaled = StandardScaler().fit_transform(X)\n",
    "Y_scaled = StandardScaler().fit_transform(Y)"
   ]
  },
  {
   "cell_type": "code",
   "execution_count": 19,
   "id": "45e7f173-d904-4174-a225-c4c37bb70780",
   "metadata": {},
   "outputs": [],
   "source": [
    "# Run CCA\n",
    "n_components = min(X.shape[1], Y.shape[1])\n",
    "cca = CCA(n_components=n_components)\n",
    "X_c, Y_c = cca.fit_transform(X_scaled, Y_scaled)"
   ]
  },
  {
   "cell_type": "code",
   "execution_count": 20,
   "id": "eb811dc6-011e-4982-b792-0bf2a325cd1c",
   "metadata": {},
   "outputs": [
    {
     "name": "stdout",
     "output_type": "stream",
     "text": [
      "Canonical correlations: [0.45884559 0.14730892 0.02066062]\n"
     ]
    }
   ],
   "source": [
    "# Canonical correlations\n",
    "corrs = np.array([np.corrcoef(X_c[:, i], Y_c[:, i])[0, 1] for i in range(n_components)])\n",
    "print(\"Canonical correlations:\", corrs)"
   ]
  },
  {
   "cell_type": "code",
   "execution_count": 21,
   "id": "5b402d6b-f7b9-476c-b11b-6a21284c9413",
   "metadata": {},
   "outputs": [
    {
     "data": {
      "image/png": "[encoded data removed]",
      "text/plain": [
       "<Figure size 800x600 with 1 Axes>"
      ]
     },
     "metadata": {},
     "output_type": "display_data"
    }
   ],
   "source": [
    "#Plot the Canonical Variates\n",
    "\n",
    "plt.figure(figsize=(8, 6))\n",
    "plt.scatter(X_c[:, 0], Y_c[:, 0], label=\"First canonical variable\", alpha=0.8)\n",
    "plt.xlabel(\"X canonical variate 1\")\n",
    "plt.ylabel(\"Y canonical variate 1\")\n",
    "plt.title(\"Canonical Correlation Plot\")\n",
    "plt.legend()\n",
    "plt.grid(True)\n",
    "plt.show()"
   ]
  },
  {
   "cell_type": "code",
   "execution_count": 22,
   "id": "3525bd1f-fe55-47ee-bdf5-d8dc57a9bc3f",
   "metadata": {},
   "outputs": [
    {
     "name": "stdout",
     "output_type": "stream",
     "text": [
      "\n",
      "Loadings for Psychological Variables:\n",
      "  locus_of_control: 0.8775\n",
      "  self_concept: -0.1957\n",
      "  motivation: 0.4378\n",
      "\n",
      "Loadings for Academic Variables:\n",
      "  read: 0.5929\n",
      "  write: 0.7631\n",
      "  math: 0.2486\n",
      "  science: -0.0656\n"
     ]
    }
   ],
   "source": [
    "# These show how much each original variable contributes to the canonical variate\n",
    "X_weights = cca.x_weights_\n",
    "Y_weights = cca.y_weights_\n",
    "\n",
    "print(\"\\nLoadings for Psychological Variables:\")\n",
    "for i, var in enumerate(X.columns):\n",
    "    print(f\"  {var}: {X_weights[i][0]:.4f}\")\n",
    "\n",
    "print(\"\\nLoadings for Academic Variables:\")\n",
    "for i, var in enumerate(Y.columns):\n",
    "    print(f\"  {var}: {Y_weights[i][0]:.4f}\")"
   ]
  },
  {
   "cell_type": "markdown",
   "id": "9ea365e7-33ae-4e93-ba07-0cf0ef56dfcb",
   "metadata": {},
   "source": [
    "# Interpretation: \n",
    "The canonical correlation analysis produced a correlation of 0.4588, indicating a moderate positive relationship between the psychological and academic variable sets. For the psychological variables, locus of control had the highest positive weight (0.8775), making it the most influential contributor, followed by motivation (0.4378).\n",
    "In contrast, self-concept showed a small negative weight (–0.1957), suggesting a minimal inverse contribution.\n",
    "For the academic variables, writing had the strongest positive weight (0.7631), followed by reading (0.5929) and math (0.2486), while science had a very small negative weight (–0.0656), indicating negligible influence."
   ]
  },
  {
   "cell_type": "code",
   "execution_count": 23,
   "id": "95996da9-739a-4c8f-a1ae-3559320f00f4",
   "metadata": {},
   "outputs": [
    {
     "name": "stdout",
     "output_type": "stream",
     "text": [
      "Root 1: Wilks’ Lambda=0.7720, Chi2=150.35, df=12, p=0.0000\n",
      "Root 2: Wilks’ Lambda=0.9779, Chi2=12.99, df=6, p=0.0431\n",
      "Root 3: Wilks’ Lambda=0.9996, Chi2=0.25, df=2, p=0.8834\n"
     ]
    }
   ],
   "source": [
    "# Significance testing using Wilks’ Lambda\n",
    "n, p, q = X.shape[0], X.shape[1], Y.shape[1]\n",
    "m = min(p, q)\n",
    "\n",
    "for k in range(m):\n",
    "    lambda_val = np.prod(1 - corrs[k:]**2)\n",
    "    df = (p - k) * (q - k)\n",
    "    chi_sq = -(n - 1 - (p + q + 1) / 2) * np.log(lambda_val)\n",
    "    p_val = 1 - chi2.cdf(chi_sq, df)\n",
    "    print(f\"Root {k+1}: Wilks’ Lambda={lambda_val:.4f}, Chi2={chi_sq:.2f}, df={df}, p={p_val:.4f}\")"
   ]
  },
  {
   "cell_type": "markdown",
   "id": "138cd57f-7b78-4f40-9d39-af4a6d0f5252",
   "metadata": {},
   "source": [
    "# Interpretation:  \n",
    "Root 1 and Root 2 are significant, so 2 canonical dimensions are necessary to understand the association between the two sets of variables."
   ]
  },
  {
   "cell_type": "code",
   "execution_count": null,
   "id": "2677309a-7a11-4887-85b8-41c386645372",
   "metadata": {},
   "outputs": [],
   "source": []
  }
 ],
 "metadata": {
  "kernelspec": {
   "display_name": "Python [conda env:base] *",
   "language": "python",
   "name": "conda-base-py"
  },
  "language_info": {
   "codemirror_mode": {
    "name": "ipython",
    "version": 3
   },
   "file_extension": ".py",
   "mimetype": "text/x-python",
   "name": "python",
   "nbconvert_exporter": "python",
   "pygments_lexer": "ipython3",
   "version": "3.13.5"
  }
 },
 "nbformat": 4,
 "nbformat_minor": 5
}
